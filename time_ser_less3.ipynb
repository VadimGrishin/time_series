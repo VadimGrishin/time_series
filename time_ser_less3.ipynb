{
 "cells": [
  {
   "cell_type": "code",
   "execution_count": 1,
   "metadata": {},
   "outputs": [],
   "source": [
    "%matplotlib inline\n",
    "import matplotlib.pyplot as plt\n",
    "\n",
    "import numpy as np\n",
    "import pandas as pd \n",
    "import seaborn as sns\n",
    "\n",
    "\n",
    "from sklearn.metrics import mean_squared_error\n",
    "import os"
   ]
  },
  {
   "cell_type": "markdown",
   "metadata": {},
   "source": [
    "## Задание\n",
    "\n",
    "Прочитайте базу my_PJME_MW.csv и сделайте ее перерасчет (ресемплинг) в представление по 1 месяцу.\n",
    "\n",
    "Подберите параметры модели SARIMAX для этого ряда.\n",
    "\n",
    "Сделайте вывод о том, как изменилась модель по сравнению с недельной."
   ]
  },
  {
   "cell_type": "code",
   "execution_count": 2,
   "metadata": {},
   "outputs": [],
   "source": [
    "#Path_Energy = 'PJME_hourly.csv'\n",
    "Path_Energy = 'my_PJME_MW.csv'\n",
    "data = pd.read_csv(Path_Energy, index_col=[0], parse_dates=[0])\n",
    "data = data.resample('m').mean()"
   ]
  },
  {
   "cell_type": "code",
   "execution_count": 3,
   "metadata": {},
   "outputs": [
    {
     "data": {
      "text/html": [
       "<div>\n",
       "<style scoped>\n",
       "    .dataframe tbody tr th:only-of-type {\n",
       "        vertical-align: middle;\n",
       "    }\n",
       "\n",
       "    .dataframe tbody tr th {\n",
       "        vertical-align: top;\n",
       "    }\n",
       "\n",
       "    .dataframe thead th {\n",
       "        text-align: right;\n",
       "    }\n",
       "</style>\n",
       "<table border=\"1\" class=\"dataframe\">\n",
       "  <thead>\n",
       "    <tr style=\"text-align: right;\">\n",
       "      <th></th>\n",
       "      <th>PJME_MW</th>\n",
       "      <th>year</th>\n",
       "      <th>month</th>\n",
       "      <th>dayofmonth</th>\n",
       "      <th>quarter</th>\n",
       "      <th>dayofyear</th>\n",
       "      <th>weekofyear</th>\n",
       "      <th>dayofweek</th>\n",
       "      <th>hour</th>\n",
       "      <th>is_holiday</th>\n",
       "      <th>is_prev_holiday</th>\n",
       "      <th>is_next_holiday</th>\n",
       "    </tr>\n",
       "    <tr>\n",
       "      <th>Date</th>\n",
       "      <th></th>\n",
       "      <th></th>\n",
       "      <th></th>\n",
       "      <th></th>\n",
       "      <th></th>\n",
       "      <th></th>\n",
       "      <th></th>\n",
       "      <th></th>\n",
       "      <th></th>\n",
       "      <th></th>\n",
       "      <th></th>\n",
       "      <th></th>\n",
       "    </tr>\n",
       "  </thead>\n",
       "  <tbody>\n",
       "    <tr>\n",
       "      <th>2002-01-31</th>\n",
       "      <td>31075.399731</td>\n",
       "      <td>2002.0</td>\n",
       "      <td>1.0</td>\n",
       "      <td>16.020188</td>\n",
       "      <td>1.0</td>\n",
       "      <td>16.020188</td>\n",
       "      <td>2.873486</td>\n",
       "      <td>2.905787</td>\n",
       "      <td>11.515478</td>\n",
       "      <td>0.063257</td>\n",
       "      <td>0.032301</td>\n",
       "      <td>0.064603</td>\n",
       "    </tr>\n",
       "    <tr>\n",
       "      <th>2002-02-28</th>\n",
       "      <td>30239.166667</td>\n",
       "      <td>2002.0</td>\n",
       "      <td>2.0</td>\n",
       "      <td>14.500000</td>\n",
       "      <td>1.0</td>\n",
       "      <td>45.500000</td>\n",
       "      <td>7.071429</td>\n",
       "      <td>3.000000</td>\n",
       "      <td>11.500000</td>\n",
       "      <td>0.035714</td>\n",
       "      <td>0.035714</td>\n",
       "      <td>0.035714</td>\n",
       "    </tr>\n",
       "    <tr>\n",
       "      <th>2002-03-31</th>\n",
       "      <td>28875.256720</td>\n",
       "      <td>2002.0</td>\n",
       "      <td>3.0</td>\n",
       "      <td>16.000000</td>\n",
       "      <td>1.0</td>\n",
       "      <td>75.000000</td>\n",
       "      <td>11.258065</td>\n",
       "      <td>3.193548</td>\n",
       "      <td>11.500000</td>\n",
       "      <td>0.000000</td>\n",
       "      <td>0.000000</td>\n",
       "      <td>0.000000</td>\n",
       "    </tr>\n",
       "    <tr>\n",
       "      <th>2002-04-30</th>\n",
       "      <td>28534.731572</td>\n",
       "      <td>2002.0</td>\n",
       "      <td>4.0</td>\n",
       "      <td>15.511822</td>\n",
       "      <td>2.0</td>\n",
       "      <td>105.511822</td>\n",
       "      <td>15.668985</td>\n",
       "      <td>2.828929</td>\n",
       "      <td>11.511822</td>\n",
       "      <td>0.000000</td>\n",
       "      <td>0.000000</td>\n",
       "      <td>0.000000</td>\n",
       "    </tr>\n",
       "    <tr>\n",
       "      <th>2002-05-31</th>\n",
       "      <td>28073.653226</td>\n",
       "      <td>2002.0</td>\n",
       "      <td>5.0</td>\n",
       "      <td>16.000000</td>\n",
       "      <td>2.0</td>\n",
       "      <td>136.000000</td>\n",
       "      <td>20.000000</td>\n",
       "      <td>3.000000</td>\n",
       "      <td>11.500000</td>\n",
       "      <td>0.032258</td>\n",
       "      <td>0.032258</td>\n",
       "      <td>0.032258</td>\n",
       "    </tr>\n",
       "  </tbody>\n",
       "</table>\n",
       "</div>"
      ],
      "text/plain": [
       "                 PJME_MW    year  month  dayofmonth  quarter   dayofyear  \\\n",
       "Date                                                                       \n",
       "2002-01-31  31075.399731  2002.0    1.0   16.020188      1.0   16.020188   \n",
       "2002-02-28  30239.166667  2002.0    2.0   14.500000      1.0   45.500000   \n",
       "2002-03-31  28875.256720  2002.0    3.0   16.000000      1.0   75.000000   \n",
       "2002-04-30  28534.731572  2002.0    4.0   15.511822      2.0  105.511822   \n",
       "2002-05-31  28073.653226  2002.0    5.0   16.000000      2.0  136.000000   \n",
       "\n",
       "            weekofyear  dayofweek       hour  is_holiday  is_prev_holiday  \\\n",
       "Date                                                                        \n",
       "2002-01-31    2.873486   2.905787  11.515478    0.063257         0.032301   \n",
       "2002-02-28    7.071429   3.000000  11.500000    0.035714         0.035714   \n",
       "2002-03-31   11.258065   3.193548  11.500000    0.000000         0.000000   \n",
       "2002-04-30   15.668985   2.828929  11.511822    0.000000         0.000000   \n",
       "2002-05-31   20.000000   3.000000  11.500000    0.032258         0.032258   \n",
       "\n",
       "            is_next_holiday  \n",
       "Date                         \n",
       "2002-01-31         0.064603  \n",
       "2002-02-28         0.035714  \n",
       "2002-03-31         0.000000  \n",
       "2002-04-30         0.000000  \n",
       "2002-05-31         0.032258  "
      ]
     },
     "execution_count": 3,
     "metadata": {},
     "output_type": "execute_result"
    }
   ],
   "source": [
    "data.head()"
   ]
  },
  {
   "cell_type": "code",
   "execution_count": 4,
   "metadata": {},
   "outputs": [],
   "source": [
    "import statsmodels.api as sm\n",
    "from statsmodels.tsa.arima_model import ARIMA\n",
    "from random import random"
   ]
  },
  {
   "cell_type": "markdown",
   "metadata": {},
   "source": [
    "### Берем лаг в 4 года"
   ]
  },
  {
   "cell_type": "code",
   "execution_count": 5,
   "metadata": {},
   "outputs": [
    {
     "data": {
      "image/png": "[encoded data removed]",
      "text/plain": [
       "<Figure size 432x288 with 1 Axes>"
      ]
     },
     "metadata": {
      "needs_background": "light"
     },
     "output_type": "display_data"
    },
    {
     "data": {
      "image/png": "[encoded data removed]",
      "text/plain": [
       "<Figure size 432x288 with 1 Axes>"
      ]
     },
     "metadata": {
      "needs_background": "light"
     },
     "output_type": "display_data"
    }
   ],
   "source": [
    "#plt.figure(figsize=(20,8))\n",
    "#plt.subplot(2,1,1)\n",
    "sm.graphics.tsa.plot_acf(data['PJME_MW'].values, lags=12*4)\n",
    "plt.show()\n",
    "\n",
    "#plt.subplot(2,1,2)\n",
    "sm.graphics.tsa.plot_pacf(data['PJME_MW'].values, lags=12*4)\n",
    "plt.show()"
   ]
  },
  {
   "cell_type": "markdown",
   "metadata": {},
   "source": [
    "### Далее повторяем все рассуждения урока, но с поправкой на новый временной масштаб"
   ]
  },
  {
   "cell_type": "code",
   "execution_count": 6,
   "metadata": {},
   "outputs": [
    {
     "name": "stdout",
     "output_type": "stream",
     "text": [
      "Examples of parameter combinations for Seasonal ARIMA...\n",
      "SARIMAX: (0, 0, 1) x (0, 0, 1, 6)\n",
      "SARIMAX: (0, 0, 1) x (0, 0, 2, 6)\n",
      "SARIMAX: (0, 0, 2) x (0, 1, 0, 6)\n",
      "SARIMAX: (0, 0, 2) x (0, 1, 1, 6)\n"
     ]
    }
   ],
   "source": [
    "import itertools\n",
    "\n",
    "# Определим p, d и q в диапазоне 0-3\n",
    "p = d = q = range(0, 3)\n",
    "# зададим сетку p, q и q\n",
    "pdq = list(itertools.product(p, d, q))\n",
    "# зададим сезонность p, q и q\n",
    "seasonal_pdq = [(x[0], x[1], x[2], 6) for x in list(itertools.product(p, d, q))]\n",
    "print('Examples of parameter combinations for Seasonal ARIMA...')\n",
    "print('SARIMAX: {} x {}'.format(pdq[1], seasonal_pdq[1]))\n",
    "print('SARIMAX: {} x {}'.format(pdq[1], seasonal_pdq[2]))\n",
    "print('SARIMAX: {} x {}'.format(pdq[2], seasonal_pdq[3]))\n",
    "print('SARIMAX: {} x {}'.format(pdq[2], seasonal_pdq[4]))"
   ]
  },
  {
   "cell_type": "code",
   "execution_count": 7,
   "metadata": {},
   "outputs": [
    {
     "name": "stdout",
     "output_type": "stream",
     "text": [
      "AIC:{} 2973.9212281887135\n"
     ]
    }
   ],
   "source": [
    "#для построения модели используем все данные, кроме 12 последних месяцев (это будет тестовый набор)\n",
    "import warnings\n",
    "warnings.filterwarnings(\"ignore\") # отключает предупреждения\n",
    "\n",
    "mod = sm.tsa.statespace.SARIMAX(data['PJME_MW'].values[:-12],order=[0,0,1],\n",
    "                                seasonal_order=[1,1,2,6] ,\n",
    "                                enforce_stationarity=False,\n",
    "                                enforce_invertibility=False)\n",
    "results = mod.fit()\n",
    "print('AIC:{}',results.aic)"
   ]
  },
  {
   "cell_type": "code",
   "execution_count": null,
   "metadata": {},
   "outputs": [],
   "source": []
  },
  {
   "cell_type": "code",
   "execution_count": 9,
   "metadata": {},
   "outputs": [
    {
     "name": "stdout",
     "output_type": "stream",
     "text": [
      "ARIMA(0, 0, 0)------------------\n",
      "ARIMA(0, 0, 0)x(0, 0, 0, 6)3 - AIC:4416.269672223332\n",
      "ARIMA(0, 0, 0)x(0, 0, 1, 6)3 - AIC:4156.4273245958375\n",
      "ARIMA(0, 0, 0)x(0, 0, 2, 6)3 - AIC:3987.7302382236703\n",
      "ARIMA(0, 0, 0)x(0, 1, 0, 6)3 - AIC:3398.419994288184\n",
      "ARIMA(0, 0, 0)x(0, 1, 1, 6)3 - AIC:3208.7743033366\n",
      "ARIMA(0, 0, 0)x(0, 1, 2, 6)3 - AIC:3048.933911813644\n",
      "ARIMA(0, 0, 0)x(1, 1, 2, 6)3 - AIC:3021.7214259236707\n",
      "ARIMA(0, 0, 0)x(1, 2, 2, 6)3 - AIC:3009.220879570287\n",
      "ARIMA(0, 0, 1)------------------\n",
      "ARIMA(0, 0, 1)x(0, 1, 2, 6)3 - AIC:2980.2487211471566\n",
      "ARIMA(0, 0, 1)x(0, 2, 2, 6)3 - AIC:2980.2403035345037\n",
      "ARIMA(0, 0, 1)x(1, 1, 2, 6)3 - AIC:2973.9212281887135\n",
      "ARIMA(0, 0, 1)x(1, 2, 2, 6)3 - AIC:2957.2691864565513\n",
      "ARIMA(0, 0, 1)x(2, 2, 2, 6)3 - AIC:2931.0288589245265\n",
      "ARIMA(0, 0, 2)------------------\n",
      "ARIMA(0, 0, 2)x(2, 2, 2, 6)3 - AIC:2913.725154036837\n",
      "ARIMA(0, 1, 0)------------------\n",
      "ARIMA(0, 1, 1)------------------\n",
      "ARIMA(0, 1, 2)------------------\n",
      "ARIMA(0, 1, 2)x(0, 2, 2, 6)3 - AIC:2906.5015878065524\n",
      "ARIMA(0, 1, 2)x(1, 2, 2, 6)3 - AIC:2895.8704314173456\n",
      "ARIMA(0, 1, 2)x(2, 2, 2, 6)3 - AIC:2885.8147053179932\n",
      "ARIMA(0, 2, 0)------------------\n",
      "ARIMA(0, 2, 1)------------------\n",
      "ARIMA(0, 2, 2)------------------\n",
      "ARIMA(1, 0, 0)------------------\n",
      "ARIMA(1, 0, 1)------------------\n",
      "ARIMA(1, 0, 2)------------------\n",
      "ARIMA(1, 1, 0)------------------\n",
      "ARIMA(1, 1, 1)------------------\n",
      "ARIMA(1, 1, 2)------------------\n",
      "ARIMA(1, 1, 2)x(1, 2, 2, 6)3 - AIC:2874.555443944072\n",
      "ARIMA(1, 2, 0)------------------\n",
      "ARIMA(1, 2, 1)------------------\n",
      "ARIMA(1, 2, 2)------------------\n",
      "ARIMA(2, 0, 0)------------------\n",
      "ARIMA(2, 0, 1)------------------\n",
      "ARIMA(2, 0, 2)------------------\n",
      "ARIMA(2, 1, 0)------------------\n",
      "ARIMA(2, 1, 1)------------------\n",
      "ARIMA(2, 1, 2)------------------\n",
      "ARIMA(2, 2, 0)------------------\n",
      "ARIMA(2, 2, 1)------------------\n",
      "ARIMA(2, 2, 2)------------------\n",
      "Wall time: 8min 33s\n"
     ]
    }
   ],
   "source": [
    "%%time\n",
    "warnings.filterwarnings(\"ignore\") # отключает предупреждения\n",
    "res_aic = 100000\n",
    "for param in pdq:\n",
    "    for param_seasonal in seasonal_pdq:\n",
    "        try:\n",
    "            mod = sm.tsa.statespace.SARIMAX(data['PJME_MW'].values[:-12],order=param,\n",
    "                                    seasonal_order=param_seasonal ,\n",
    "                                    enforce_stationarity=False,\n",
    "                                    enforce_invertibility=False)\n",
    "\n",
    "            results = mod.fit()\n",
    "            \n",
    "            if param_seasonal == (0, 0, 0, 6):\n",
    "                print(f'ARIMA{param}------------------')\n",
    "            if res_aic >= results.aic:\n",
    "                res_aic = results.aic\n",
    "                print('ARIMA{}x{}3 - AIC:{}'.format(param, param_seasonal, res_aic))\n",
    "            \n",
    "                \n",
    "        except:\n",
    "            continue"
   ]
  },
  {
   "cell_type": "code",
   "execution_count": 10,
   "metadata": {},
   "outputs": [
    {
     "name": "stdout",
     "output_type": "stream",
     "text": [
      "AIC:{} 2874.555443944072\n"
     ]
    }
   ],
   "source": [
    "mod = sm.tsa.statespace.SARIMAX(data['PJME_MW'].values[:-12],order=[1,1,2],\n",
    "                                seasonal_order=[1,2,2,6] ,\n",
    "                                enforce_stationarity=False,\n",
    "                                enforce_invertibility=False)\n",
    "results_opt = mod.fit()\n",
    "print('AIC:{}',results_opt.aic)"
   ]
  },
  {
   "cell_type": "code",
   "execution_count": 15,
   "metadata": {},
   "outputs": [
    {
     "data": {
      "image/png": "[encoded data removed]",
      "text/plain": [
       "<Figure size 432x288 with 1 Axes>"
      ]
     },
     "metadata": {
      "needs_background": "light"
     },
     "output_type": "display_data"
    }
   ],
   "source": [
    "pred_dynamic = results.forecast(18)    \n",
    "pred_dynamic_opt = results_opt.forecast(18)\n",
    "\n",
    "plt.plot(pred_dynamic, label='predict' )\n",
    "plt.plot(pred_dynamic_opt,'g', label='predict_opt' )\n",
    "#Отобразим истинный значения \n",
    "plt.plot(data['PJME_MW'].values[-12:],'or',label='true')\n",
    "plt.title('Предсказание последних точек ряда  и следующих 6 точек ряда')\n",
    "plt.legend()\n",
    "\n",
    "plt.show()"
   ]
  },
  {
   "cell_type": "code",
   "execution_count": 16,
   "metadata": {},
   "outputs": [
    {
     "name": "stdout",
     "output_type": "stream",
     "text": [
      "(-7.427897497798674, 6.475536455211759e-11, 6, 181, {'1%': -3.467004502498507, '5%': -2.8776444997243558, '10%': -2.575355189707274}, 3085.102391778983)\n"
     ]
    }
   ],
   "source": [
    "from sklearn.metrics import r2_score \n",
    "adf_test = sm.tsa.stattools.adfuller(results_opt.resid)\n",
    "print(adf_test)"
   ]
  },
  {
   "cell_type": "code",
   "execution_count": 17,
   "metadata": {},
   "outputs": [
    {
     "name": "stdout",
     "output_type": "stream",
     "text": [
      "(-5.229056489799294, 7.667322357517337e-06, 14, 173, {'1%': -3.4687256239864017, '5%': -2.8783961376954363, '10%': -2.57575634100705}, 3159.001573638787)\n"
     ]
    }
   ],
   "source": [
    "adf_test = sm.tsa.stattools.adfuller(results.resid)\n",
    "print(adf_test)"
   ]
  },
  {
   "cell_type": "markdown",
   "metadata": {},
   "source": [
    "## Вывод: \n",
    "### тест Дики Фуллера показывает стационарность остатков ряда. Визуально смущает неучтенный моделью выброс на последних 2-х точках. Критерий AIC вроде лучше, чем на недельном датасете, но без четкого понимания его математики при масштабировании не рискну делать выводы... Вообще вся схема напоминает шаманство без теоретической (математической) подготовки.\n",
    "\n",
    "### И вот какой все время мучает вопрос: если у нас параметр d>0, то это же означает, например, для (p,d,q)=(0,1,1) процесс, эквивалентный случайному блужданию? Как такой процесс может что-то прогнозировать? Или переформулирую - насколько корректно восстановление процесса из разностей, если разность - случайный шум? Какова конструкция этого восстановления, почему она приводит к исходному экземпляру, а не к какому-то другому из наиболее вероятных реализаций? Грубо говоря, если пьяного высадили в поле и он вместо маленького шага влево сначала делает шаг вправо, то весь маршрут пойдет иначе...\n",
    "\n"
   ]
  },
  {
   "cell_type": "code",
   "execution_count": null,
   "metadata": {},
   "outputs": [],
   "source": []
  }
 ],
 "metadata": {
  "kernelspec": {
   "display_name": "Python 3",
   "language": "python",
   "name": "python3"
  },
  "language_info": {
   "codemirror_mode": {
    "name": "ipython",
    "version": 3
   },
   "file_extension": ".py",
   "mimetype": "text/x-python",
   "name": "python",
   "nbconvert_exporter": "python",
   "pygments_lexer": "ipython3",
   "version": "3.7.1"
  }
 },
 "nbformat": 4,
 "nbformat_minor": 2
}
